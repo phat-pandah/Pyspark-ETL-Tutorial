{
 "cells": [
  {
   "cell_type": "code",
   "execution_count": 1,
   "metadata": {},
   "outputs": [
    {
     "name": "stdout",
     "output_type": "stream",
     "text": [
      "Import successfull\n"
     ]
    }
   ],
   "source": [
    "from pyspark.sql import SparkSession\r\n",
    "from pyspark.sql import SQLContext\r\n",
    "\r\n",
    "print('Import successfull')"
   ]
  },
  {
   "cell_type": "markdown",
   "metadata": {},
   "source": [
    "<u><h1>First Part</h1></u>\r\n",
    "----------------------\r\n",
    "very simple script to initialize a spark session and import a flat file."
   ]
  },
  {
   "cell_type": "code",
   "execution_count": 3,
   "metadata": {},
   "outputs": [
    {
     "name": "stdout",
     "output_type": "stream",
     "text": [
      "Total Records = 4\n",
      "+------+---+--------+\n",
      "|  name|age| country|\n",
      "+------+---+--------+\n",
      "| adnan| 40|Pakistan|\n",
      "|  maaz|  9|Pakistan|\n",
      "| musab|  4|Pakistan|\n",
      "|ayesha| 32|Pakistan|\n",
      "+------+---+--------+\n",
      "\n"
     ]
    }
   ],
   "source": [
    "# Init session\r\n",
    "# Spark session creates entry point for application; lets you interact with Spark APIs\r\n",
    "# getOrCreate() returns a new session if app exists or creates a new one\r\n",
    "scSpark = SparkSession.builder.appName(\"reading csv\").getOrCreate()\r\n",
    "\r\n",
    "# read data\r\n",
    "file_data = './Data/data.csv'\r\n",
    "sdfData = scSpark.read.csv(file_data, header=True, sep=\",\").cache()\r\n",
    "print(f'Total Records = {sdfData.count()}')\r\n",
    "sdfData.show()"
   ]
  },
  {
   "cell_type": "markdown",
   "metadata": {},
   "source": [
    "<u><h1>Second Part</h1></u>\r\n",
    "We will explore using SQL queries in Spark. We will be using real data which can be found on <a href=https://www.kaggle.com/aungpyaeap/supermarket-sales target=_blank>kaggle</a>.\r\n",
    "<br>\r\n",
    "<h2>Extract</h2>\r\n"
   ]
  },
  {
   "cell_type": "code",
   "execution_count": 19,
   "metadata": {},
   "outputs": [
    {
     "name": "stdout",
     "output_type": "stream",
     "text": [
      "Total Records = 1000\n",
      "\n",
      "Schema\n",
      "--------------------------------------------------\n",
      "root\n",
      " |-- Invoice ID: string (nullable = true)\n",
      " |-- Branch: string (nullable = true)\n",
      " |-- City: string (nullable = true)\n",
      " |-- Customer type: string (nullable = true)\n",
      " |-- Gender: string (nullable = true)\n",
      " |-- Product line: string (nullable = true)\n",
      " |-- Unit price: string (nullable = true)\n",
      " |-- Quantity: string (nullable = true)\n",
      " |-- Tax 5%: string (nullable = true)\n",
      " |-- Total: string (nullable = true)\n",
      " |-- Date: string (nullable = true)\n",
      " |-- Time: string (nullable = true)\n",
      " |-- Payment: string (nullable = true)\n",
      " |-- cogs: string (nullable = true)\n",
      " |-- gross margin percentage: string (nullable = true)\n",
      " |-- gross income: string (nullable = true)\n",
      " |-- Rating: string (nullable = true)\n",
      "\n",
      "None\n",
      "--------------------------------------------------\n",
      "\n",
      "Summary statistics\n",
      "--------------------------------------------------\n",
      "\n",
      "+-------+-----------+------+--------+-------------+------+--------------------+------------------+------------------+------------------+------------------+--------+-----+-------+------------------+-----------------------+------------------+------------------+\n",
      "|summary| Invoice ID|Branch|    City|Customer type|Gender|        Product line|        Unit price|          Quantity|            Tax 5%|             Total|    Date| Time|Payment|              cogs|gross margin percentage|      gross income|            Rating|\n",
      "+-------+-----------+------+--------+-------------+------+--------------------+------------------+------------------+------------------+------------------+--------+-----+-------+------------------+-----------------------+------------------+------------------+\n",
      "|  count|       1000|  1000|    1000|         1000|  1000|                1000|              1000|              1000|              1000|              1000|    1000| 1000|   1000|              1000|                   1000|              1000|              1000|\n",
      "|   mean|       null|  null|    null|         null|  null|                null| 55.67212999999998|              5.51|15.379369000000002|322.96674900000005|    null| null|   null|307.58738000000034|      4.761904762000062|15.379369000000002| 6.972700000000003|\n",
      "| stddev|       null|  null|    null|         null|  null|                null|26.494628347919786|2.9234305954556956| 11.70882548099866| 245.8853351009718|    null| null|   null|234.17650961997333|                    0.0| 11.70882548099866|1.7185802943791213|\n",
      "|    min|101-17-6199|     A|Mandalay|       Member|Female|Electronic access...|             10.08|                 1|            0.5085|           10.6785|1/1/2019|10:00|   Cash|             10.17|            4.761904762|            0.5085|                10|\n",
      "|    25%|       null|  null|    null|         null|  null|                null|              32.8|               3.0|            5.8345|          122.5245|    null| null|   null|            116.69|            4.761904762|            5.8345|               5.5|\n",
      "|    50%|       null|  null|    null|         null|  null|                null|             55.07|               5.0|             12.08|            253.68|    null| null|   null|             241.6|            4.761904762|             12.08|               7.0|\n",
      "|    75%|       null|  null|    null|         null|  null|                null|             77.93|               8.0|             22.43|            471.03|    null| null|   null|             448.6|            4.761904762|             22.43|               8.5|\n",
      "|    max|898-04-2717|     C|  Yangon|       Normal|  Male|   Sports and travel|             99.96|                 9|             9.989|           99.9075|3/9/2019|20:59|Ewallet|               993|            4.761904762|             9.989|               9.9|\n",
      "+-------+-----------+------+--------+-------------+------+--------------------+------------------+------------------+------------------+------------------+--------+-----+-------+------------------+-----------------------+------------------+------------------+\n",
      "\n",
      "None\n"
     ]
    }
   ],
   "source": [
    "# Extract the data\r\n",
    "data_file = './Data/supermarket_sales - Sheet1.csv'\r\n",
    "data = scSpark.read.csv(data_file, header=True, sep=\",\").cache()\r\n",
    "\r\n",
    "#Explore the dataset\r\n",
    "#Look at num of records\r\n",
    "print(f'Total Records = {data.count()}')\r\n",
    "#Look at schema\r\n",
    "print('\\nSchema')\r\n",
    "print('--------------------------------------------------')\r\n",
    "print(data.printSchema())\r\n",
    "print('--------------------------------------------------\\n')\r\n",
    "print('Summary statistics')\r\n",
    "print('--------------------------------------------------\\n')\r\n",
    "print(data.summary().show())"
   ]
  },
  {
   "cell_type": "markdown",
   "metadata": {},
   "source": [
    "<h2>Transform</h2>"
   ]
  },
  {
   "cell_type": "code",
   "execution_count": 20,
   "metadata": {},
   "outputs": [
    {
     "name": "stdout",
     "output_type": "stream",
     "text": [
      "+------+-----+\n",
      "|Gender|count|\n",
      "+------+-----+\n",
      "|Female|  501|\n",
      "|  Male|  499|\n",
      "+------+-----+\n",
      "\n",
      "None\n"
     ]
    }
   ],
   "source": [
    "# group data by gender\r\n",
    "\r\n",
    "gender = data.groupBy('Gender').count()\r\n",
    "print(gender.show())"
   ]
  },
  {
   "cell_type": "code",
   "execution_count": 22,
   "metadata": {},
   "outputs": [
    {
     "name": "stdout",
     "output_type": "stream",
     "text": [
      "+-----------+------+---------+-------------+------+--------------------+----------+--------+-------+--------+---------+-----+-----------+------+-----------------------+------------+------+\n",
      "| Invoice ID|Branch|     City|Customer type|Gender|        Product line|Unit price|Quantity| Tax 5%|   Total|     Date| Time|    Payment|  cogs|gross margin percentage|gross income|Rating|\n",
      "+-----------+------+---------+-------------+------+--------------------+----------+--------+-------+--------+---------+-----+-----------+------+-----------------------+------------+------+\n",
      "|750-67-8428|     A|   Yangon|       Member|Female|   Health and beauty|     74.69|       7|26.1415|548.9715| 1/5/2019|13:08|    Ewallet|522.83|            4.761904762|     26.1415|   9.1|\n",
      "|226-31-3081|     C|Naypyitaw|       Normal|Female|Electronic access...|     15.28|       5|   3.82|   80.22| 3/8/2019|10:29|       Cash|  76.4|            4.761904762|        3.82|   9.6|\n",
      "|631-41-3108|     A|   Yangon|       Normal|  Male|  Home and lifestyle|     46.33|       7|16.2155|340.5255| 3/3/2019|13:23|Credit card|324.31|            4.761904762|     16.2155|   7.4|\n",
      "|123-19-1176|     A|   Yangon|       Member|  Male|   Health and beauty|     58.22|       8| 23.288| 489.048|1/27/2019|20:33|    Ewallet|465.76|            4.761904762|      23.288|   8.4|\n",
      "|373-73-7910|     A|   Yangon|       Normal|  Male|   Sports and travel|     86.31|       7|30.2085|634.3785| 2/8/2019|10:37|    Ewallet|604.17|            4.761904762|     30.2085|   5.3|\n",
      "|699-14-3026|     C|Naypyitaw|       Normal|  Male|Electronic access...|     85.39|       7|29.8865|627.6165|3/25/2019|18:30|    Ewallet|597.73|            4.761904762|     29.8865|   4.1|\n",
      "|355-53-5943|     A|   Yangon|       Member|Female|Electronic access...|     68.84|       6| 20.652| 433.692|2/25/2019|14:36|    Ewallet|413.04|            4.761904762|      20.652|   5.8|\n",
      "|315-22-5665|     C|Naypyitaw|       Normal|Female|  Home and lifestyle|     73.56|      10|  36.78|  772.38|2/24/2019|11:38|    Ewallet| 735.6|            4.761904762|       36.78|     8|\n",
      "|665-32-9167|     A|   Yangon|       Member|Female|   Health and beauty|     36.26|       2|  3.626|  76.146|1/10/2019|17:15|Credit card| 72.52|            4.761904762|       3.626|   7.2|\n",
      "|692-92-5582|     B| Mandalay|       Member|Female|  Food and beverages|     54.84|       3|  8.226| 172.746|2/20/2019|13:27|Credit card|164.52|            4.761904762|       8.226|   5.9|\n",
      "|351-62-0822|     B| Mandalay|       Member|Female| Fashion accessories|     14.48|       4|  2.896|  60.816| 2/6/2019|18:07|    Ewallet| 57.92|            4.761904762|       2.896|   4.5|\n",
      "|529-56-3974|     B| Mandalay|       Member|  Male|Electronic access...|     25.51|       4|  5.102| 107.142| 3/9/2019|17:03|       Cash|102.04|            4.761904762|       5.102|   6.8|\n",
      "|365-64-0515|     A|   Yangon|       Normal|Female|Electronic access...|     46.95|       5|11.7375|246.4875|2/12/2019|10:25|    Ewallet|234.75|            4.761904762|     11.7375|   7.1|\n",
      "|252-56-2699|     A|   Yangon|       Normal|  Male|  Food and beverages|     43.19|      10| 21.595| 453.495| 2/7/2019|16:48|    Ewallet| 431.9|            4.761904762|      21.595|   8.2|\n",
      "|829-34-3910|     A|   Yangon|       Normal|Female|   Health and beauty|     71.38|      10|  35.69|  749.49|3/29/2019|19:21|       Cash| 713.8|            4.761904762|       35.69|   5.7|\n",
      "|299-46-1805|     B| Mandalay|       Member|Female|   Sports and travel|     93.72|       6| 28.116| 590.436|1/15/2019|16:19|       Cash|562.32|            4.761904762|      28.116|   4.5|\n",
      "|656-95-9349|     A|   Yangon|       Member|Female|   Health and beauty|     68.93|       7|24.1255|506.6355|3/11/2019|11:03|Credit card|482.51|            4.761904762|     24.1255|   4.6|\n",
      "|765-26-6951|     A|   Yangon|       Normal|  Male|   Sports and travel|     72.61|       6| 21.783| 457.443| 1/1/2019|10:39|Credit card|435.66|            4.761904762|      21.783|   6.9|\n",
      "|329-62-1586|     A|   Yangon|       Normal|  Male|  Food and beverages|     54.67|       3| 8.2005|172.2105|1/21/2019|18:00|Credit card|164.01|            4.761904762|      8.2005|   8.6|\n",
      "|319-50-3348|     B| Mandalay|       Normal|Female|  Home and lifestyle|      40.3|       2|   4.03|   84.63|3/11/2019|15:30|    Ewallet|  80.6|            4.761904762|        4.03|   4.4|\n",
      "+-----------+------+---------+-------------+------+--------------------+----------+--------+-------+--------+---------+-----+-----------+------+-----------------------+------------+------+\n",
      "only showing top 20 rows\n",
      "\n"
     ]
    }
   ],
   "source": [
    "# Create temporary table of sales\r\n",
    "# query the temporary table to select all fields\r\n",
    "\r\n",
    "data.registerTempTable('sales')\r\n",
    "output = scSpark.sql('SELECT * FROM sales')\r\n",
    "output.show()"
   ]
  },
  {
   "cell_type": "code",
   "execution_count": 23,
   "metadata": {},
   "outputs": [
    {
     "name": "stdout",
     "output_type": "stream",
     "text": [
      "+-----------+------+---------+-------------+------+--------------------+----------+--------+------+--------+---------+-----+-----------+------+-----------------------+------------+------+\n",
      "| Invoice ID|Branch|     City|Customer type|Gender|        Product line|Unit price|Quantity|Tax 5%|   Total|     Date| Time|    Payment|  cogs|gross margin percentage|gross income|Rating|\n",
      "+-----------+------+---------+-------------+------+--------------------+----------+--------+------+--------+---------+-----+-----------+------+-----------------------+------------+------+\n",
      "|351-62-0822|     B| Mandalay|       Member|Female| Fashion accessories|     14.48|       4| 2.896|  60.816| 2/6/2019|18:07|    Ewallet| 57.92|            4.761904762|       2.896|   4.5|\n",
      "|871-39-9221|     C|Naypyitaw|       Normal|Female|Electronic access...|     12.45|       6| 3.735|  78.435| 2/9/2019|13:11|       Cash|  74.7|            4.761904762|       3.735|   4.1|\n",
      "|586-25-0848|     A|   Yangon|       Normal|Female|   Sports and travel|     12.34|       7| 4.319|  90.699| 3/4/2019|11:19|Credit card| 86.38|            4.761904762|       4.319|   6.7|\n",
      "|389-25-3394|     C|Naypyitaw|       Normal|  Male|Electronic access...|     11.81|       5|2.9525| 62.0025|2/17/2019|18:06|       Cash| 59.05|            4.761904762|      2.9525|   9.4|\n",
      "|279-62-1445|     C|Naypyitaw|       Member|Female| Fashion accessories|     12.54|       1| 0.627|  13.167|2/21/2019|12:38|       Cash| 12.54|            4.761904762|       0.627|   8.2|\n",
      "|545-46-3100|     B| Mandalay|       Member|Female|Electronic access...|     10.59|       3|1.5885| 33.3585|3/12/2019|13:52|Credit card| 31.77|            4.761904762|      1.5885|   8.7|\n",
      "|346-84-3103|     B| Mandalay|       Member|Female|Electronic access...|     13.22|       5| 3.305|  69.405| 3/2/2019|19:26|       Cash|  66.1|            4.761904762|       3.305|   4.3|\n",
      "|883-17-4236|     C|Naypyitaw|       Normal|Female|   Sports and travel|     14.39|       2| 1.439|  30.219| 3/2/2019|19:44|Credit card| 28.78|            4.761904762|       1.439|   7.2|\n",
      "|633-91-1052|     A|   Yangon|       Normal|Female|  Home and lifestyle|     12.03|       2| 1.203|  25.263|1/27/2019|15:51|       Cash| 24.06|            4.761904762|       1.203|   5.1|\n",
      "|396-90-2219|     B| Mandalay|       Normal|Female|Electronic access...|     14.96|       8| 5.984| 125.664|2/23/2019|12:29|       Cash|119.68|            4.761904762|       5.984|   8.6|\n",
      "|870-76-1733|     A|   Yangon|       Member|Female|  Food and beverages|     14.23|       5|3.5575| 74.7075| 2/1/2019|10:08|Credit card| 71.15|            4.761904762|      3.5575|   4.4|\n",
      "|835-16-0096|     C|Naypyitaw|       Member|  Male|   Sports and travel|      14.7|       5| 3.675|  77.175|3/24/2019|13:48|    Ewallet|  73.5|            4.761904762|       3.675|   8.5|\n",
      "|760-54-1821|     B| Mandalay|       Normal|  Male|  Home and lifestyle|     13.59|       9|6.1155|128.4255|3/15/2019|10:26|       Cash|122.31|            4.761904762|      6.1155|   5.8|\n",
      "|236-86-3015|     C|Naypyitaw|       Member|  Male|  Home and lifestyle|     13.98|       1| 0.699|  14.679| 2/4/2019|13:38|    Ewallet| 13.98|            4.761904762|       0.699|   9.8|\n",
      "|732-67-5346|     A|   Yangon|       Normal|  Male|  Food and beverages|     13.79|       5|3.4475| 72.3975|1/11/2019|19:07|Credit card| 68.95|            4.761904762|      3.4475|   7.8|\n",
      "|192-98-7397|     C|Naypyitaw|       Normal|  Male| Fashion accessories|     12.78|       1| 0.639|  13.419| 1/8/2019|14:11|    Ewallet| 12.78|            4.761904762|       0.639|   9.5|\n",
      "|239-48-4278|     A|   Yangon|       Member|  Male|  Food and beverages|     10.13|       7|3.5455| 74.4555|3/10/2019|19:35|    Ewallet| 70.91|            4.761904762|      3.5455|   8.3|\n",
      "|227-50-3718|     A|   Yangon|       Normal|  Male|   Health and beauty|     14.62|       5| 3.655|  76.755| 3/4/2019|12:23|       Cash|  73.1|            4.761904762|       3.655|   4.4|\n",
      "|470-31-3286|     B| Mandalay|       Normal|  Male|   Health and beauty|     14.82|       3| 2.223|  46.683| 3/1/2019|11:30|Credit card| 44.46|            4.761904762|       2.223|   8.7|\n",
      "|308-39-1707|     A|   Yangon|       Normal|Female| Fashion accessories|     12.09|       1|0.6045| 12.6945|1/26/2019|18:19|Credit card| 12.09|            4.761904762|      0.6045|   8.2|\n",
      "+-----------+------+---------+-------------+------+--------------------+----------+--------+------+--------+---------+-----+-----------+------+-----------------------+------------+------+\n",
      "only showing top 20 rows\n",
      "\n"
     ]
    }
   ],
   "source": [
    "# Modify previous query to add WHERE clause\r\n",
    "\r\n",
    "output2 = scSpark.sql('SELECT * \\\r\n",
    "                    FROM sales \\\r\n",
    "                    WHERE `Unit Price` < 15 AND Quantity < 10 ')\r\n",
    "output2.show()"
   ]
  },
  {
   "cell_type": "code",
   "execution_count": 27,
   "metadata": {},
   "outputs": [
    {
     "name": "stdout",
     "output_type": "stream",
     "text": [
      "+-----+---------+\n",
      "|total|     City|\n",
      "+-----+---------+\n",
      "|  328|Naypyitaw|\n",
      "|  332| Mandalay|\n",
      "|  340|   Yangon|\n",
      "+-----+---------+\n",
      "\n"
     ]
    }
   ],
   "source": [
    "# Aggregate values\r\n",
    "\r\n",
    "output3 = scSpark.sql('SELECT COUNT(*) as total, City FROM sales GROUP BY City')\r\n",
    "output3.show()"
   ]
  },
  {
   "cell_type": "markdown",
   "metadata": {},
   "source": [
    "<h2>Load</h2>"
   ]
  },
  {
   "cell_type": "code",
   "execution_count": 28,
   "metadata": {},
   "outputs": [],
   "source": [
    "# Multiple files will be created\r\n",
    "output3.write.format('json').save('filtered.json')"
   ]
  },
  {
   "cell_type": "code",
   "execution_count": 30,
   "metadata": {},
   "outputs": [],
   "source": [
    "# to savve as only 1 file use coalesce\r\n",
    "output3.coalesce(1).write.format('json').save('filtered_onefile.json')"
   ]
  },
  {
   "cell_type": "markdown",
   "metadata": {},
   "source": [
    "## We can use pyspark to extract data from a database as well\r\n",
    "\r\n",
    "We will access MySql with pyspark\r\n",
    "The dataset can be found <a href='https://archive.ics.uci.edu/ml/datasets/Wine+Quality' target=_blank>here</a>\r\n",
    "\r\n",
    "- First we will use panda to import the data, seperate red from white wines\r\n",
    "  - no cleaning, eda, or nothing is done here\r\n",
    "  - this step is just to create a MySql Database\r\n",
    "- We will then write the results to a MySql database\r\n",
    "- Then access the database using Pyspark\r\n"
   ]
  },
  {
   "cell_type": "code",
   "execution_count": 11,
   "metadata": {},
   "outputs": [],
   "source": [
    "import pandas as pd\r\n",
    "import mysql.connector\r\n",
    "\r\n",
    "# Load data\r\n",
    "red_wines = pd.read_csv('./winequality/winequality-red.csv', sep=\";\")\r\n",
    "white_wines = pd.read_csv('./winequality/winequality-white.csv', sep=\";\")\r\n",
    "\r\n",
    "# add coluns labeling type of wine: 1 for red 0 for white\r\n",
    "red_wines['is_red'] = 1\r\n",
    "white_wines['is_red'] = 0\r\n",
    "\r\n",
    "# concat red and white wines dataframe into one\r\n",
    "wines = pd.concat([red_wines, white_wines])\r\n",
    "\r\n",
    "# Connect to MySql and add a cursor to execute queries\r\n",
    "db_con = mysql.connector.connect(user='root', password='DumbDumb')\r\n",
    "db_cursor = db_con.cursor()\r\n",
    "\r\n",
    "# Create DataBase and create a Table\r\n",
    "db_cursor.execute('CREATE DATABASE IF NOT EXISTS TestDB;')\r\n",
    "db_cursor.execute('USE TestDB')\r\n",
    "\r\n",
    "# Make column names in table match with the ones from the csv file\r\n",
    "db_cursor.execute(\"CREATE TABLE IF NOT EXISTS Wines(fixed_acidity FLOAT, volatile_acidity FLOAT, \\\r\n",
    "                   citric_acid FLOAT, residual_sugar FLOAT, chlorides FLOAT, \\\r\n",
    "                   free_so2 FLOAT, total_so2 FLOAT, density FLOAT, pH FLOAT, \\\r\n",
    "                   sulphates FLOAT, alcohol FLOAT, quality INT, is_red INT);\")\r\n",
    "\r\n",
    "# Can load multiple rows in a MySQL table if the contents of each row is contained within parenthesis and comma seperated\r\n",
    "# Match the syntax of INSERT\r\n",
    "wine_tuples = list(wines.itertuples(index=False, name=None))\r\n",
    "wine_tuples_string = \",\".join([\"(\" + \",\".join([str(w) for w in wt]) + \")\" for wt in wine_tuples])\r\n",
    "\r\n",
    "db_cursor.execute(\"INSERT INTO Wines(fixed_acidity, volatile_acidity, citric_acid,\\\r\n",
    "                   residual_sugar, chlorides, free_so2, total_so2, density, pH,\\\r\n",
    "                   sulphates, alcohol, quality, is_red) VALUES \" + wine_tuples_string + \";\")\r\n",
    "\r\n"
   ]
  },
  {
   "cell_type": "code",
   "execution_count": 11,
   "metadata": {},
   "outputs": [
    {
     "name": "stdout",
     "output_type": "stream",
     "text": [
      "(7.4, 0.7, 0.0, 1.9, 0.076, 11.0, 34.0, 0.9978, 3.51, 0.56, 9.4, 5, 1)\n",
      "(7.8, 0.88, 0.0, 2.6, 0.098, 25.0, 67.0, 0.9968, 3.2, 0.68, 9.8, 5, 1)\n",
      "   fixed acidity  volatile acidity  citric acid  residual sugar  chlorides  \\\n",
      "0            7.4              0.70          0.0             1.9      0.076   \n",
      "1            7.8              0.88          0.0             2.6      0.098   \n",
      "\n",
      "   free sulfur dioxide  total sulfur dioxide  density    pH  sulphates  \\\n",
      "0                 11.0                  34.0   0.9978  3.51       0.56   \n",
      "1                 25.0                  67.0   0.9968  3.20       0.68   \n",
      "\n",
      "   alcohol  quality  is_red  \n",
      "0      9.4        5       1  \n",
      "1      9.8        5       1  \n"
     ]
    }
   ],
   "source": [
    "# Check that the database and table were created and data sucessfully added to the table:\r\n",
    "db_cursor.execute('SELECT * FROM Wines LIMIT 2;')\r\n",
    "result1 = db_cursor.fetchall()\r\n",
    "for x in result1:\r\n",
    "    print(x)\r\n",
    "    \r\n",
    "print(wines.head(2))\r\n",
    "\r\n",
    "# The results are kind of messy because the long column names makes the pandas result span multiple rows\r\n",
    "# But you can compare the results between pandas and MySql amd see that the data matches"
   ]
  },
  {
   "cell_type": "code",
   "execution_count": 19,
   "metadata": {},
   "outputs": [
    {
     "name": "stdout",
     "output_type": "stream",
     "text": [
      "None\n"
     ]
    }
   ],
   "source": []
  },
  {
   "cell_type": "markdown",
   "metadata": {},
   "source": [
    "## Access MySQL with Pyspark\r\n",
    "\r\n",
    "Doing this can very quickly lead to massive headheaches...<br>\r\n",
    "We are establishing a jdbc connection<br>\r\n",
    "Make sure you have downloaded the correct MysQL connector (specifically the mysql-connector-java:$<version>$) and that the jar file is in the right location\r\n"
   ]
  },
  {
   "cell_type": "code",
   "execution_count": 2,
   "metadata": {},
   "outputs": [],
   "source": [
    "spark = SparkSession.builder.config(\"spark.jars\", \"/usr/share/java/mysql-connector-java-8.0.22.jar\") \\\r\n",
    "    .master(\"local\").appName(\"PySpark_MySQL_test\").getOrCreate()"
   ]
  },
  {
   "cell_type": "code",
   "execution_count": 4,
   "metadata": {},
   "outputs": [],
   "source": [
    "import findspark\r\n",
    "\r\n",
    "findspark.add_packages('mysql:mysql-connector-java:8.0.11')"
   ]
  },
  {
   "cell_type": "code",
   "execution_count": 7,
   "metadata": {},
   "outputs": [],
   "source": [
    "wine_df = spark.read.format(\"jdbc\").option(\"url\", \"jdbc:mysql://localhost:3306/TestDB\") \\\r\n",
    "    .option(\"driver\", \"com.mysql.jdbc.Driver\").option(\"dbtable\", \"Wines\") \\\r\n",
    "    .option(\"user\", \"root\").option(\"password\", \"DumbDumb\").load()"
   ]
  },
  {
   "cell_type": "code",
   "execution_count": 43,
   "metadata": {},
   "outputs": [
    {
     "name": "stdout",
     "output_type": "stream",
     "text": [
      "+-------------+----------------+-----------+--------------+---------+--------+---------+-------+----+---------+-------+-------+------+\n",
      "|fixed_acidity|volatile_acidity|citric_acid|residual_sugar|chlorides|free_so2|total_so2|density|  pH|sulphates|alcohol|quality|is_red|\n",
      "+-------------+----------------+-----------+--------------+---------+--------+---------+-------+----+---------+-------+-------+------+\n",
      "|          7.4|             0.7|        0.0|           1.9|    0.076|    11.0|     34.0| 0.9978|3.51|     0.56|    9.4|      5|     1|\n",
      "|          7.8|            0.88|        0.0|           2.6|    0.098|    25.0|     67.0| 0.9968| 3.2|     0.68|    9.8|      5|     1|\n",
      "|          7.8|            0.76|       0.04|           2.3|    0.092|    15.0|     54.0|  0.997|3.26|     0.65|    9.8|      5|     1|\n",
      "|         11.2|            0.28|       0.56|           1.9|    0.075|    17.0|     60.0|  0.998|3.16|     0.58|    9.8|      6|     1|\n",
      "|          7.4|             0.7|        0.0|           1.9|    0.076|    11.0|     34.0| 0.9978|3.51|     0.56|    9.4|      5|     1|\n",
      "+-------------+----------------+-----------+--------------+---------+--------+---------+-------+----+---------+-------+-------+------+\n",
      "only showing top 5 rows\n",
      "\n",
      "None\n",
      "\n",
      "The dataframe has 12994 rows\n",
      "Number of partitions = 1\n",
      "root\n",
      " |-- fixed_acidity: double (nullable = true)\n",
      " |-- volatile_acidity: double (nullable = true)\n",
      " |-- citric_acid: double (nullable = true)\n",
      " |-- residual_sugar: double (nullable = true)\n",
      " |-- chlorides: double (nullable = true)\n",
      " |-- free_so2: double (nullable = true)\n",
      " |-- total_so2: double (nullable = true)\n",
      " |-- density: double (nullable = true)\n",
      " |-- pH: double (nullable = true)\n",
      " |-- sulphates: double (nullable = true)\n",
      " |-- alcohol: double (nullable = true)\n",
      " |-- quality: integer (nullable = true)\n",
      " |-- is_red: integer (nullable = true)\n",
      "\n",
      "None\n",
      "+-------+------------------+-------------------+-------------------+-----------------+--------------------+------------------+------------------+--------------------+------------------+-------------------+------------------+------------------+------------------+\n",
      "|summary|     fixed_acidity|   volatile_acidity|        citric_acid|   residual_sugar|           chlorides|          free_so2|         total_so2|             density|                pH|          sulphates|           alcohol|           quality|            is_red|\n",
      "+-------+------------------+-------------------+-------------------+-----------------+--------------------+------------------+------------------+--------------------+------------------+-------------------+------------------+------------------+------------------+\n",
      "|  count|             12994|              12994|              12994|            12994|               12994|             12994|             12994|               12994|             12994|              12994|             12994|             12994|             12994|\n",
      "|   mean|  7.21530706479916|0.33966599969216754|0.31863321533015293|5.443235339387388| 0.05603386178236028|30.525319378174544| 115.7445744189626|  0.9946966338310053| 3.218500846544574| 0.5312682776666159|10.491800797290919| 5.818377712790519|0.2461135908881022|\n",
      "| stddev|1.2963838671393126|0.16463013837922177|0.14531227263017502|4.757620648585259|0.035032253174372356| 17.74871672184842|56.519679392094275|0.002998557605785...|0.1607810145300659|0.14880014711803322|1.1926658296240336|0.8732216660483803|0.4307620821234794|\n",
      "|    min|               3.8|               0.08|                0.0|              0.6|               0.009|               1.0|               6.0|             0.98711|              2.72|               0.22|               8.0|                 3|                 0|\n",
      "|    max|              15.9|               1.58|               1.66|             65.8|               0.611|             289.0|             440.0|             1.03898|              4.01|                2.0|              14.9|                 9|                 1|\n",
      "+-------+------------------+-------------------+-------------------+-----------------+--------------------+------------------+------------------+--------------------+------------------+-------------------+------------------+------------------+------------------+\n",
      "\n",
      "None\n",
      "+-------+-------------------+\n",
      "|summary|   volatile_acidity|\n",
      "+-------+-------------------+\n",
      "|  count|              12994|\n",
      "|   mean|0.33966599969216754|\n",
      "| stddev|0.16463013837922177|\n",
      "|    min|               0.08|\n",
      "|    max|               1.58|\n",
      "+-------+-------------------+\n",
      "\n",
      "None\n",
      "+-------+-------------------+-------------------+------------------+------------------+\n",
      "|summary|   volatile_acidity|        citric_acid|           alcohol|           quality|\n",
      "+-------+-------------------+-------------------+------------------+------------------+\n",
      "|  count|              12994|              12994|             12994|             12994|\n",
      "|   mean|0.33966599969216754|0.31863321533015293|10.491800797290919| 5.818377712790519|\n",
      "| stddev|0.16463013837922177|0.14531227263017502|1.1926658296240336|0.8732216660483803|\n",
      "|    min|               0.08|                0.0|               8.0|                 3|\n",
      "|    max|               1.58|               1.66|              14.9|                 9|\n",
      "+-------+-------------------+-------------------+------------------+------------------+\n",
      "\n",
      "None\n"
     ]
    }
   ],
   "source": [
    "# explore a bit :)\r\n",
    "# SHow first 5 rows of dataframe\r\n",
    "print(wine_df.show(n=5))\r\n",
    "\r\n",
    "# Count number of rows\r\n",
    "print(f'\\nThe dataframe has {wine_df.count()} rows')\r\n",
    "\r\n",
    "# Show number of partions in underlying RDD\r\n",
    "print(f'Number of partitions = {wine_df.rdd.getNumPartitions()}')\r\n",
    "\r\n",
    "# Get datatype of columns \r\n",
    "print(wine_df.printSchema())\r\n",
    "\r\n",
    "# Get basic statistic of datframe\r\n",
    "print(wine_df.describe().show())\r\n",
    "\r\n",
    "# Calling describe() on the whole dataframe gives a messy output\r\n",
    "# we can call it on a single column\r\n",
    "print(wine_df.describe('volatile_acidity').show())\r\n",
    "\r\n",
    "# We can also print the summary statistics of more than 1 col at a time\r\n",
    "print(wine_df.describe(['volatile_acidity', 'citric_acid', 'alcohol', 'quality']).show())\r\n",
    "\r\n",
    "# If we absolutely need the basic summary statistics of the whole data frame and need to format it to look nice\r\n",
    "# we can can itterate over each column, find the statistics of that column, round the numbers to the desired format\r\n",
    "# concat the results into a new data frame\r\n",
    "# kind of a pain..\r\n"
   ]
  },
  {
   "cell_type": "code",
   "execution_count": null,
   "metadata": {},
   "outputs": [],
   "source": []
  }
 ],
 "metadata": {
  "interpreter": {
   "hash": "dba8851dec06c95965c4b9acd8f4325acdb80444c005ae414d7a6bcd36173821"
  },
  "kernelspec": {
   "display_name": "Python 3.8.8 64-bit ('base': conda)",
   "name": "python3"
  },
  "language_info": {
   "codemirror_mode": {
    "name": "ipython",
    "version": 3
   },
   "file_extension": ".py",
   "mimetype": "text/x-python",
   "name": "python",
   "nbconvert_exporter": "python",
   "pygments_lexer": "ipython3",
   "version": "3.8.8"
  },
  "orig_nbformat": 4
 },
 "nbformat": 4,
 "nbformat_minor": 2
}