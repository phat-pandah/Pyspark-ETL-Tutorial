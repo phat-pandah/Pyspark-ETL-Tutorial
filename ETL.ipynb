{
 "cells": [
  {
   "cell_type": "code",
   "execution_count": 2,
   "metadata": {},
   "outputs": [
    {
     "name": "stdout",
     "output_type": "stream",
     "text": [
      "Import successfull\n"
     ]
    }
   ],
   "source": [
    "from pyspark.sql import SparkSession\r\n",
    "from pyspark.sql import SQLContext\r\n",
    "\r\n",
    "\r\n",
    "print('Import successfull')"
   ]
  },
  {
   "cell_type": "markdown",
   "metadata": {},
   "source": [
    "<u><h1>First Part</h1></u>\r\n",
    "----------------------\r\n",
    "very simple script to initialize a spark session and import a flat file."
   ]
  },
  {
   "cell_type": "code",
   "execution_count": 4,
   "metadata": {},
   "outputs": [
    {
     "name": "stdout",
     "output_type": "stream",
     "text": [
      "Total Records = 4\n",
      "+------+---+--------+\n",
      "|  name|age| country|\n",
      "+------+---+--------+\n",
      "| adnan| 40|Pakistan|\n",
      "|  maaz|  9|Pakistan|\n",
      "| musab|  4|Pakistan|\n",
      "|ayesha| 32|Pakistan|\n",
      "+------+---+--------+\n",
      "\n"
     ]
    }
   ],
   "source": [
    "# Init session\r\n",
    "# Spark session creates entry point for application; lets you interact with Spark APIs\r\n",
    "# getOrCreate() returns a new session if app exists or creates a new one\r\n",
    "scSpark = SparkSession.builder.appName(\"reading csv\").getOrCreate()\r\n",
    "\r\n",
    "# read data\r\n",
    "file_data = './Data/data.csv'\r\n",
    "sdfData = scSpark.read.csv(file_data, header=True, sep=\",\").cache()\r\n",
    "print(f'Total Records = {sdfData.count()}')\r\n",
    "sdfData.show()"
   ]
  },
  {
   "cell_type": "markdown",
   "metadata": {},
   "source": [
    "<u><h1>Second Part</h1></u>\r\n",
    "We will explore using SQL queries in Spark. We will be using real data which can be found on <a href=https://www.kaggle.com/aungpyaeap/supermarket-sales target=_blank>kaggle</a>.\r\n",
    "<br>\r\n",
    "<h2>Extract</h2>\r\n"
   ]
  },
  {
   "cell_type": "code",
   "execution_count": 19,
   "metadata": {},
   "outputs": [
    {
     "name": "stdout",
     "output_type": "stream",
     "text": [
      "Total Records = 1000\n",
      "\n",
      "Schema\n",
      "--------------------------------------------------\n",
      "root\n",
      " |-- Invoice ID: string (nullable = true)\n",
      " |-- Branch: string (nullable = true)\n",
      " |-- City: string (nullable = true)\n",
      " |-- Customer type: string (nullable = true)\n",
      " |-- Gender: string (nullable = true)\n",
      " |-- Product line: string (nullable = true)\n",
      " |-- Unit price: string (nullable = true)\n",
      " |-- Quantity: string (nullable = true)\n",
      " |-- Tax 5%: string (nullable = true)\n",
      " |-- Total: string (nullable = true)\n",
      " |-- Date: string (nullable = true)\n",
      " |-- Time: string (nullable = true)\n",
      " |-- Payment: string (nullable = true)\n",
      " |-- cogs: string (nullable = true)\n",
      " |-- gross margin percentage: string (nullable = true)\n",
      " |-- gross income: string (nullable = true)\n",
      " |-- Rating: string (nullable = true)\n",
      "\n",
      "None\n",
      "--------------------------------------------------\n",
      "\n",
      "Summary statistics\n",
      "--------------------------------------------------\n",
      "\n",
      "+-------+-----------+------+--------+-------------+------+--------------------+------------------+------------------+------------------+------------------+--------+-----+-------+------------------+-----------------------+------------------+------------------+\n",
      "|summary| Invoice ID|Branch|    City|Customer type|Gender|        Product line|        Unit price|          Quantity|            Tax 5%|             Total|    Date| Time|Payment|              cogs|gross margin percentage|      gross income|            Rating|\n",
      "+-------+-----------+------+--------+-------------+------+--------------------+------------------+------------------+------------------+------------------+--------+-----+-------+------------------+-----------------------+------------------+------------------+\n",
      "|  count|       1000|  1000|    1000|         1000|  1000|                1000|              1000|              1000|              1000|              1000|    1000| 1000|   1000|              1000|                   1000|              1000|              1000|\n",
      "|   mean|       null|  null|    null|         null|  null|                null| 55.67212999999998|              5.51|15.379369000000002|322.96674900000005|    null| null|   null|307.58738000000034|      4.761904762000062|15.379369000000002| 6.972700000000003|\n",
      "| stddev|       null|  null|    null|         null|  null|                null|26.494628347919786|2.9234305954556956| 11.70882548099866| 245.8853351009718|    null| null|   null|234.17650961997333|                    0.0| 11.70882548099866|1.7185802943791213|\n",
      "|    min|101-17-6199|     A|Mandalay|       Member|Female|Electronic access...|             10.08|                 1|            0.5085|           10.6785|1/1/2019|10:00|   Cash|             10.17|            4.761904762|            0.5085|                10|\n",
      "|    25%|       null|  null|    null|         null|  null|                null|              32.8|               3.0|            5.8345|          122.5245|    null| null|   null|            116.69|            4.761904762|            5.8345|               5.5|\n",
      "|    50%|       null|  null|    null|         null|  null|                null|             55.07|               5.0|             12.08|            253.68|    null| null|   null|             241.6|            4.761904762|             12.08|               7.0|\n",
      "|    75%|       null|  null|    null|         null|  null|                null|             77.93|               8.0|             22.43|            471.03|    null| null|   null|             448.6|            4.761904762|             22.43|               8.5|\n",
      "|    max|898-04-2717|     C|  Yangon|       Normal|  Male|   Sports and travel|             99.96|                 9|             9.989|           99.9075|3/9/2019|20:59|Ewallet|               993|            4.761904762|             9.989|               9.9|\n",
      "+-------+-----------+------+--------+-------------+------+--------------------+------------------+------------------+------------------+------------------+--------+-----+-------+------------------+-----------------------+------------------+------------------+\n",
      "\n",
      "None\n"
     ]
    }
   ],
   "source": [
    "# Extract the data\r\n",
    "data_file = './Data/supermarket_sales - Sheet1.csv'\r\n",
    "data = scSpark.read.csv(data_file, header=True, sep=\",\").cache()\r\n",
    "\r\n",
    "#Explore the dataset\r\n",
    "#Look at num of records\r\n",
    "print(f'Total Records = {data.count()}')\r\n",
    "#Look at schema\r\n",
    "print('\\nSchema')\r\n",
    "print('--------------------------------------------------')\r\n",
    "print(data.printSchema())\r\n",
    "print('--------------------------------------------------\\n')\r\n",
    "print('Summary statistics')\r\n",
    "print('--------------------------------------------------\\n')\r\n",
    "print(data.summary().show())"
   ]
  },
  {
   "cell_type": "markdown",
   "metadata": {},
   "source": [
    "<h2>Transform</h2>"
   ]
  },
  {
   "cell_type": "code",
   "execution_count": 20,
   "metadata": {},
   "outputs": [
    {
     "name": "stdout",
     "output_type": "stream",
     "text": [
      "+------+-----+\n",
      "|Gender|count|\n",
      "+------+-----+\n",
      "|Female|  501|\n",
      "|  Male|  499|\n",
      "+------+-----+\n",
      "\n",
      "None\n"
     ]
    }
   ],
   "source": [
    "# group data by gender\r\n",
    "\r\n",
    "gender = data.groupBy('Gender').count()\r\n",
    "print(gender.show())"
   ]
  },
  {
   "cell_type": "code",
   "execution_count": 22,
   "metadata": {},
   "outputs": [
    {
     "name": "stdout",
     "output_type": "stream",
     "text": [
      "+-----------+------+---------+-------------+------+--------------------+----------+--------+-------+--------+---------+-----+-----------+------+-----------------------+------------+------+\n",
      "| Invoice ID|Branch|     City|Customer type|Gender|        Product line|Unit price|Quantity| Tax 5%|   Total|     Date| Time|    Payment|  cogs|gross margin percentage|gross income|Rating|\n",
      "+-----------+------+---------+-------------+------+--------------------+----------+--------+-------+--------+---------+-----+-----------+------+-----------------------+------------+------+\n",
      "|750-67-8428|     A|   Yangon|       Member|Female|   Health and beauty|     74.69|       7|26.1415|548.9715| 1/5/2019|13:08|    Ewallet|522.83|            4.761904762|     26.1415|   9.1|\n",
      "|226-31-3081|     C|Naypyitaw|       Normal|Female|Electronic access...|     15.28|       5|   3.82|   80.22| 3/8/2019|10:29|       Cash|  76.4|            4.761904762|        3.82|   9.6|\n",
      "|631-41-3108|     A|   Yangon|       Normal|  Male|  Home and lifestyle|     46.33|       7|16.2155|340.5255| 3/3/2019|13:23|Credit card|324.31|            4.761904762|     16.2155|   7.4|\n",
      "|123-19-1176|     A|   Yangon|       Member|  Male|   Health and beauty|     58.22|       8| 23.288| 489.048|1/27/2019|20:33|    Ewallet|465.76|            4.761904762|      23.288|   8.4|\n",
      "|373-73-7910|     A|   Yangon|       Normal|  Male|   Sports and travel|     86.31|       7|30.2085|634.3785| 2/8/2019|10:37|    Ewallet|604.17|            4.761904762|     30.2085|   5.3|\n",
      "|699-14-3026|     C|Naypyitaw|       Normal|  Male|Electronic access...|     85.39|       7|29.8865|627.6165|3/25/2019|18:30|    Ewallet|597.73|            4.761904762|     29.8865|   4.1|\n",
      "|355-53-5943|     A|   Yangon|       Member|Female|Electronic access...|     68.84|       6| 20.652| 433.692|2/25/2019|14:36|    Ewallet|413.04|            4.761904762|      20.652|   5.8|\n",
      "|315-22-5665|     C|Naypyitaw|       Normal|Female|  Home and lifestyle|     73.56|      10|  36.78|  772.38|2/24/2019|11:38|    Ewallet| 735.6|            4.761904762|       36.78|     8|\n",
      "|665-32-9167|     A|   Yangon|       Member|Female|   Health and beauty|     36.26|       2|  3.626|  76.146|1/10/2019|17:15|Credit card| 72.52|            4.761904762|       3.626|   7.2|\n",
      "|692-92-5582|     B| Mandalay|       Member|Female|  Food and beverages|     54.84|       3|  8.226| 172.746|2/20/2019|13:27|Credit card|164.52|            4.761904762|       8.226|   5.9|\n",
      "|351-62-0822|     B| Mandalay|       Member|Female| Fashion accessories|     14.48|       4|  2.896|  60.816| 2/6/2019|18:07|    Ewallet| 57.92|            4.761904762|       2.896|   4.5|\n",
      "|529-56-3974|     B| Mandalay|       Member|  Male|Electronic access...|     25.51|       4|  5.102| 107.142| 3/9/2019|17:03|       Cash|102.04|            4.761904762|       5.102|   6.8|\n",
      "|365-64-0515|     A|   Yangon|       Normal|Female|Electronic access...|     46.95|       5|11.7375|246.4875|2/12/2019|10:25|    Ewallet|234.75|            4.761904762|     11.7375|   7.1|\n",
      "|252-56-2699|     A|   Yangon|       Normal|  Male|  Food and beverages|     43.19|      10| 21.595| 453.495| 2/7/2019|16:48|    Ewallet| 431.9|            4.761904762|      21.595|   8.2|\n",
      "|829-34-3910|     A|   Yangon|       Normal|Female|   Health and beauty|     71.38|      10|  35.69|  749.49|3/29/2019|19:21|       Cash| 713.8|            4.761904762|       35.69|   5.7|\n",
      "|299-46-1805|     B| Mandalay|       Member|Female|   Sports and travel|     93.72|       6| 28.116| 590.436|1/15/2019|16:19|       Cash|562.32|            4.761904762|      28.116|   4.5|\n",
      "|656-95-9349|     A|   Yangon|       Member|Female|   Health and beauty|     68.93|       7|24.1255|506.6355|3/11/2019|11:03|Credit card|482.51|            4.761904762|     24.1255|   4.6|\n",
      "|765-26-6951|     A|   Yangon|       Normal|  Male|   Sports and travel|     72.61|       6| 21.783| 457.443| 1/1/2019|10:39|Credit card|435.66|            4.761904762|      21.783|   6.9|\n",
      "|329-62-1586|     A|   Yangon|       Normal|  Male|  Food and beverages|     54.67|       3| 8.2005|172.2105|1/21/2019|18:00|Credit card|164.01|            4.761904762|      8.2005|   8.6|\n",
      "|319-50-3348|     B| Mandalay|       Normal|Female|  Home and lifestyle|      40.3|       2|   4.03|   84.63|3/11/2019|15:30|    Ewallet|  80.6|            4.761904762|        4.03|   4.4|\n",
      "+-----------+------+---------+-------------+------+--------------------+----------+--------+-------+--------+---------+-----+-----------+------+-----------------------+------------+------+\n",
      "only showing top 20 rows\n",
      "\n"
     ]
    }
   ],
   "source": [
    "# Create temporary table of sales\r\n",
    "# query the temporary table to select all fields\r\n",
    "\r\n",
    "data.registerTempTable('sales')\r\n",
    "output = scSpark.sql('SELECT * FROM sales')\r\n",
    "output.show()"
   ]
  },
  {
   "cell_type": "code",
   "execution_count": 23,
   "metadata": {},
   "outputs": [
    {
     "name": "stdout",
     "output_type": "stream",
     "text": [
      "+-----------+------+---------+-------------+------+--------------------+----------+--------+------+--------+---------+-----+-----------+------+-----------------------+------------+------+\n",
      "| Invoice ID|Branch|     City|Customer type|Gender|        Product line|Unit price|Quantity|Tax 5%|   Total|     Date| Time|    Payment|  cogs|gross margin percentage|gross income|Rating|\n",
      "+-----------+------+---------+-------------+------+--------------------+----------+--------+------+--------+---------+-----+-----------+------+-----------------------+------------+------+\n",
      "|351-62-0822|     B| Mandalay|       Member|Female| Fashion accessories|     14.48|       4| 2.896|  60.816| 2/6/2019|18:07|    Ewallet| 57.92|            4.761904762|       2.896|   4.5|\n",
      "|871-39-9221|     C|Naypyitaw|       Normal|Female|Electronic access...|     12.45|       6| 3.735|  78.435| 2/9/2019|13:11|       Cash|  74.7|            4.761904762|       3.735|   4.1|\n",
      "|586-25-0848|     A|   Yangon|       Normal|Female|   Sports and travel|     12.34|       7| 4.319|  90.699| 3/4/2019|11:19|Credit card| 86.38|            4.761904762|       4.319|   6.7|\n",
      "|389-25-3394|     C|Naypyitaw|       Normal|  Male|Electronic access...|     11.81|       5|2.9525| 62.0025|2/17/2019|18:06|       Cash| 59.05|            4.761904762|      2.9525|   9.4|\n",
      "|279-62-1445|     C|Naypyitaw|       Member|Female| Fashion accessories|     12.54|       1| 0.627|  13.167|2/21/2019|12:38|       Cash| 12.54|            4.761904762|       0.627|   8.2|\n",
      "|545-46-3100|     B| Mandalay|       Member|Female|Electronic access...|     10.59|       3|1.5885| 33.3585|3/12/2019|13:52|Credit card| 31.77|            4.761904762|      1.5885|   8.7|\n",
      "|346-84-3103|     B| Mandalay|       Member|Female|Electronic access...|     13.22|       5| 3.305|  69.405| 3/2/2019|19:26|       Cash|  66.1|            4.761904762|       3.305|   4.3|\n",
      "|883-17-4236|     C|Naypyitaw|       Normal|Female|   Sports and travel|     14.39|       2| 1.439|  30.219| 3/2/2019|19:44|Credit card| 28.78|            4.761904762|       1.439|   7.2|\n",
      "|633-91-1052|     A|   Yangon|       Normal|Female|  Home and lifestyle|     12.03|       2| 1.203|  25.263|1/27/2019|15:51|       Cash| 24.06|            4.761904762|       1.203|   5.1|\n",
      "|396-90-2219|     B| Mandalay|       Normal|Female|Electronic access...|     14.96|       8| 5.984| 125.664|2/23/2019|12:29|       Cash|119.68|            4.761904762|       5.984|   8.6|\n",
      "|870-76-1733|     A|   Yangon|       Member|Female|  Food and beverages|     14.23|       5|3.5575| 74.7075| 2/1/2019|10:08|Credit card| 71.15|            4.761904762|      3.5575|   4.4|\n",
      "|835-16-0096|     C|Naypyitaw|       Member|  Male|   Sports and travel|      14.7|       5| 3.675|  77.175|3/24/2019|13:48|    Ewallet|  73.5|            4.761904762|       3.675|   8.5|\n",
      "|760-54-1821|     B| Mandalay|       Normal|  Male|  Home and lifestyle|     13.59|       9|6.1155|128.4255|3/15/2019|10:26|       Cash|122.31|            4.761904762|      6.1155|   5.8|\n",
      "|236-86-3015|     C|Naypyitaw|       Member|  Male|  Home and lifestyle|     13.98|       1| 0.699|  14.679| 2/4/2019|13:38|    Ewallet| 13.98|            4.761904762|       0.699|   9.8|\n",
      "|732-67-5346|     A|   Yangon|       Normal|  Male|  Food and beverages|     13.79|       5|3.4475| 72.3975|1/11/2019|19:07|Credit card| 68.95|            4.761904762|      3.4475|   7.8|\n",
      "|192-98-7397|     C|Naypyitaw|       Normal|  Male| Fashion accessories|     12.78|       1| 0.639|  13.419| 1/8/2019|14:11|    Ewallet| 12.78|            4.761904762|       0.639|   9.5|\n",
      "|239-48-4278|     A|   Yangon|       Member|  Male|  Food and beverages|     10.13|       7|3.5455| 74.4555|3/10/2019|19:35|    Ewallet| 70.91|            4.761904762|      3.5455|   8.3|\n",
      "|227-50-3718|     A|   Yangon|       Normal|  Male|   Health and beauty|     14.62|       5| 3.655|  76.755| 3/4/2019|12:23|       Cash|  73.1|            4.761904762|       3.655|   4.4|\n",
      "|470-31-3286|     B| Mandalay|       Normal|  Male|   Health and beauty|     14.82|       3| 2.223|  46.683| 3/1/2019|11:30|Credit card| 44.46|            4.761904762|       2.223|   8.7|\n",
      "|308-39-1707|     A|   Yangon|       Normal|Female| Fashion accessories|     12.09|       1|0.6045| 12.6945|1/26/2019|18:19|Credit card| 12.09|            4.761904762|      0.6045|   8.2|\n",
      "+-----------+------+---------+-------------+------+--------------------+----------+--------+------+--------+---------+-----+-----------+------+-----------------------+------------+------+\n",
      "only showing top 20 rows\n",
      "\n"
     ]
    }
   ],
   "source": [
    "# Modify previous query to add WHERE clause\r\n",
    "\r\n",
    "output2 = scSpark.sql('SELECT * \\\r\n",
    "                    FROM sales \\\r\n",
    "                    WHERE `Unit Price` < 15 AND Quantity < 10 ')\r\n",
    "output2.show()"
   ]
  },
  {
   "cell_type": "code",
   "execution_count": 27,
   "metadata": {},
   "outputs": [
    {
     "name": "stdout",
     "output_type": "stream",
     "text": [
      "+-----+---------+\n",
      "|total|     City|\n",
      "+-----+---------+\n",
      "|  328|Naypyitaw|\n",
      "|  332| Mandalay|\n",
      "|  340|   Yangon|\n",
      "+-----+---------+\n",
      "\n"
     ]
    }
   ],
   "source": [
    "# Aggregate values\r\n",
    "\r\n",
    "output3 = scSpark.sql('SELECT COUNT(*) as total, City FROM sales GROUP BY City')\r\n",
    "output3.show()"
   ]
  },
  {
   "cell_type": "markdown",
   "metadata": {},
   "source": [
    "<h2>Load</h2>"
   ]
  },
  {
   "cell_type": "code",
   "execution_count": 28,
   "metadata": {},
   "outputs": [],
   "source": [
    "# Multiple files will be created\r\n",
    "output3.write.format('json').save('filtered.json')"
   ]
  },
  {
   "cell_type": "code",
   "execution_count": 30,
   "metadata": {},
   "outputs": [],
   "source": [
    "# to savve as only 1 file use coalesce\r\n",
    "output3.coalesce(1).write.format('json').save('filtered_onefile.json')"
   ]
  },
  {
   "cell_type": "markdown",
   "metadata": {},
   "source": [
    "# NEXT STEP:\r\n",
    "connect to MySql database"
   ]
  },
  {
   "cell_type": "code",
   "execution_count": null,
   "metadata": {},
   "outputs": [],
   "source": []
  }
 ],
 "metadata": {
  "interpreter": {
   "hash": "dba8851dec06c95965c4b9acd8f4325acdb80444c005ae414d7a6bcd36173821"
  },
  "kernelspec": {
   "display_name": "Python 3.8.8 64-bit ('base': conda)",
   "name": "python3"
  },
  "language_info": {
   "codemirror_mode": {
    "name": "ipython",
    "version": 3
   },
   "file_extension": ".py",
   "mimetype": "text/x-python",
   "name": "python",
   "nbconvert_exporter": "python",
   "pygments_lexer": "ipython3",
   "version": "3.8.8"
  },
  "orig_nbformat": 4
 },
 "nbformat": 4,
 "nbformat_minor": 2
}